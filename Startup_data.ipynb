{
 "cells": [
  {
   "cell_type": "code",
   "execution_count": 1,
   "metadata": {},
   "outputs": [],
   "source": [
    "import pandas as pd\n",
    "import numpy as np\n",
    "import matplotlib.pyplot as plt\n",
    "import seaborn as sns"
   ]
  },
  {
   "cell_type": "code",
   "execution_count": 2,
   "metadata": {},
   "outputs": [],
   "source": [
    "# Importing the data\n",
    "data = pd.read_csv(\"../startup data.csv\")"
   ]
  },
  {
   "cell_type": "markdown",
   "metadata": {},
   "source": [
    "#### Objective\n",
    "\n",
    "The objective is to predict whether a startup which is currently operating turns into a success or a failure. The success of a company is defined as the event that gives the company's founders a large sum of money through the process of M&A (Merger and Acquisition) or an IPO (Initial Public Offering). A company would be considered as failed if it had to be shut down.\n",
    "\n",
    "#### About the Data\n",
    "\n",
    "The data contains industry trends, investment insights and individual company information. There are 48 columns/features. Some of the features are:\n",
    "\n",
    "* agefirstfunding_year – quantitative\n",
    "* agelastfunding_year – quantitative\n",
    "* relationships – quantitative\n",
    "* funding_rounds – quantitative\n",
    "* fundingtotalusd – quantitative\n",
    "* milestones – quantitative\n",
    "* agefirstmilestone_year – quantitative\n",
    "* agelastmilestone_year – quantitative\n",
    "* state – categorical\n",
    "* industry_type – categorical\n",
    "* has_VC – categorical\n",
    "* has_angel – categorical\n",
    "* has_roundA – categorical\n",
    "* has_roundB – categorical\n",
    "* has_roundC – categorical\n",
    "* has_roundD – categorical\n",
    "* avg_participants – quantitative\n",
    "* is_top500 – categorical\n",
    "\n",
    "* **status(acquired/closed) – categorical (the target variable, if a startup is ‘acquired’ by some other organization, means the startup succeed)** "
   ]
  },
  {
   "cell_type": "code",
   "execution_count": 3,
   "metadata": {},
   "outputs": [
    {
     "data": {
      "text/html": [
       "<div>\n",
       "<style scoped>\n",
       "    .dataframe tbody tr th:only-of-type {\n",
       "        vertical-align: middle;\n",
       "    }\n",
       "\n",
       "    .dataframe tbody tr th {\n",
       "        vertical-align: top;\n",
       "    }\n",
       "\n",
       "    .dataframe thead th {\n",
       "        text-align: right;\n",
       "    }\n",
       "</style>\n",
       "<table border=\"1\" class=\"dataframe\">\n",
       "  <thead>\n",
       "    <tr style=\"text-align: right;\">\n",
       "      <th></th>\n",
       "      <th>Unnamed: 0</th>\n",
       "      <th>state_code</th>\n",
       "      <th>latitude</th>\n",
       "      <th>longitude</th>\n",
       "      <th>zip_code</th>\n",
       "      <th>id</th>\n",
       "      <th>city</th>\n",
       "      <th>Unnamed: 6</th>\n",
       "      <th>name</th>\n",
       "      <th>labels</th>\n",
       "      <th>...</th>\n",
       "      <th>object_id</th>\n",
       "      <th>has_VC</th>\n",
       "      <th>has_angel</th>\n",
       "      <th>has_roundA</th>\n",
       "      <th>has_roundB</th>\n",
       "      <th>has_roundC</th>\n",
       "      <th>has_roundD</th>\n",
       "      <th>avg_participants</th>\n",
       "      <th>is_top500</th>\n",
       "      <th>status</th>\n",
       "    </tr>\n",
       "  </thead>\n",
       "  <tbody>\n",
       "    <tr>\n",
       "      <th>0</th>\n",
       "      <td>1005</td>\n",
       "      <td>CA</td>\n",
       "      <td>42.358880</td>\n",
       "      <td>-71.056820</td>\n",
       "      <td>92101</td>\n",
       "      <td>c:6669</td>\n",
       "      <td>San Diego</td>\n",
       "      <td>NaN</td>\n",
       "      <td>Bandsintown</td>\n",
       "      <td>1</td>\n",
       "      <td>...</td>\n",
       "      <td>c:6669</td>\n",
       "      <td>0</td>\n",
       "      <td>1</td>\n",
       "      <td>0</td>\n",
       "      <td>0</td>\n",
       "      <td>0</td>\n",
       "      <td>0</td>\n",
       "      <td>1.0000</td>\n",
       "      <td>0</td>\n",
       "      <td>acquired</td>\n",
       "    </tr>\n",
       "    <tr>\n",
       "      <th>1</th>\n",
       "      <td>204</td>\n",
       "      <td>CA</td>\n",
       "      <td>37.238916</td>\n",
       "      <td>-121.973718</td>\n",
       "      <td>95032</td>\n",
       "      <td>c:16283</td>\n",
       "      <td>Los Gatos</td>\n",
       "      <td>NaN</td>\n",
       "      <td>TriCipher</td>\n",
       "      <td>1</td>\n",
       "      <td>...</td>\n",
       "      <td>c:16283</td>\n",
       "      <td>1</td>\n",
       "      <td>0</td>\n",
       "      <td>0</td>\n",
       "      <td>1</td>\n",
       "      <td>1</td>\n",
       "      <td>1</td>\n",
       "      <td>4.7500</td>\n",
       "      <td>1</td>\n",
       "      <td>acquired</td>\n",
       "    </tr>\n",
       "    <tr>\n",
       "      <th>2</th>\n",
       "      <td>1001</td>\n",
       "      <td>CA</td>\n",
       "      <td>32.901049</td>\n",
       "      <td>-117.192656</td>\n",
       "      <td>92121</td>\n",
       "      <td>c:65620</td>\n",
       "      <td>San Diego</td>\n",
       "      <td>San Diego CA 92121</td>\n",
       "      <td>Plixi</td>\n",
       "      <td>1</td>\n",
       "      <td>...</td>\n",
       "      <td>c:65620</td>\n",
       "      <td>0</td>\n",
       "      <td>0</td>\n",
       "      <td>1</td>\n",
       "      <td>0</td>\n",
       "      <td>0</td>\n",
       "      <td>0</td>\n",
       "      <td>4.0000</td>\n",
       "      <td>1</td>\n",
       "      <td>acquired</td>\n",
       "    </tr>\n",
       "    <tr>\n",
       "      <th>3</th>\n",
       "      <td>738</td>\n",
       "      <td>CA</td>\n",
       "      <td>37.320309</td>\n",
       "      <td>-122.050040</td>\n",
       "      <td>95014</td>\n",
       "      <td>c:42668</td>\n",
       "      <td>Cupertino</td>\n",
       "      <td>Cupertino CA 95014</td>\n",
       "      <td>Solidcore Systems</td>\n",
       "      <td>1</td>\n",
       "      <td>...</td>\n",
       "      <td>c:42668</td>\n",
       "      <td>0</td>\n",
       "      <td>0</td>\n",
       "      <td>0</td>\n",
       "      <td>1</td>\n",
       "      <td>1</td>\n",
       "      <td>1</td>\n",
       "      <td>3.3333</td>\n",
       "      <td>1</td>\n",
       "      <td>acquired</td>\n",
       "    </tr>\n",
       "    <tr>\n",
       "      <th>4</th>\n",
       "      <td>1002</td>\n",
       "      <td>CA</td>\n",
       "      <td>37.779281</td>\n",
       "      <td>-122.419236</td>\n",
       "      <td>94105</td>\n",
       "      <td>c:65806</td>\n",
       "      <td>San Francisco</td>\n",
       "      <td>San Francisco CA 94105</td>\n",
       "      <td>Inhale Digital</td>\n",
       "      <td>0</td>\n",
       "      <td>...</td>\n",
       "      <td>c:65806</td>\n",
       "      <td>1</td>\n",
       "      <td>1</td>\n",
       "      <td>0</td>\n",
       "      <td>0</td>\n",
       "      <td>0</td>\n",
       "      <td>0</td>\n",
       "      <td>1.0000</td>\n",
       "      <td>1</td>\n",
       "      <td>closed</td>\n",
       "    </tr>\n",
       "    <tr>\n",
       "      <th>5</th>\n",
       "      <td>379</td>\n",
       "      <td>CA</td>\n",
       "      <td>37.406914</td>\n",
       "      <td>-122.090370</td>\n",
       "      <td>94043</td>\n",
       "      <td>c:22898</td>\n",
       "      <td>Mountain View</td>\n",
       "      <td>Mountain View CA 94043</td>\n",
       "      <td>Matisse Networks</td>\n",
       "      <td>0</td>\n",
       "      <td>...</td>\n",
       "      <td>c:22898</td>\n",
       "      <td>0</td>\n",
       "      <td>0</td>\n",
       "      <td>0</td>\n",
       "      <td>1</td>\n",
       "      <td>0</td>\n",
       "      <td>0</td>\n",
       "      <td>3.0000</td>\n",
       "      <td>1</td>\n",
       "      <td>closed</td>\n",
       "    </tr>\n",
       "    <tr>\n",
       "      <th>6</th>\n",
       "      <td>195</td>\n",
       "      <td>CA</td>\n",
       "      <td>37.391559</td>\n",
       "      <td>-122.070264</td>\n",
       "      <td>94041</td>\n",
       "      <td>c:16191</td>\n",
       "      <td>Mountain View</td>\n",
       "      <td>NaN</td>\n",
       "      <td>RingCube Technologies</td>\n",
       "      <td>1</td>\n",
       "      <td>...</td>\n",
       "      <td>c:16191</td>\n",
       "      <td>1</td>\n",
       "      <td>0</td>\n",
       "      <td>1</td>\n",
       "      <td>1</td>\n",
       "      <td>0</td>\n",
       "      <td>0</td>\n",
       "      <td>1.6667</td>\n",
       "      <td>1</td>\n",
       "      <td>acquired</td>\n",
       "    </tr>\n",
       "    <tr>\n",
       "      <th>7</th>\n",
       "      <td>875</td>\n",
       "      <td>CA</td>\n",
       "      <td>38.057107</td>\n",
       "      <td>-122.513742</td>\n",
       "      <td>94901</td>\n",
       "      <td>c:5192</td>\n",
       "      <td>San Rafael</td>\n",
       "      <td>NaN</td>\n",
       "      <td>ClairMail</td>\n",
       "      <td>1</td>\n",
       "      <td>...</td>\n",
       "      <td>c:5192</td>\n",
       "      <td>0</td>\n",
       "      <td>0</td>\n",
       "      <td>1</td>\n",
       "      <td>1</td>\n",
       "      <td>0</td>\n",
       "      <td>1</td>\n",
       "      <td>3.5000</td>\n",
       "      <td>1</td>\n",
       "      <td>acquired</td>\n",
       "    </tr>\n",
       "    <tr>\n",
       "      <th>8</th>\n",
       "      <td>16</td>\n",
       "      <td>MA</td>\n",
       "      <td>42.712207</td>\n",
       "      <td>-73.203599</td>\n",
       "      <td>1267</td>\n",
       "      <td>c:1043</td>\n",
       "      <td>Williamstown</td>\n",
       "      <td>Williamstown MA 1267</td>\n",
       "      <td>VoodooVox</td>\n",
       "      <td>1</td>\n",
       "      <td>...</td>\n",
       "      <td>c:1043</td>\n",
       "      <td>1</td>\n",
       "      <td>0</td>\n",
       "      <td>1</td>\n",
       "      <td>0</td>\n",
       "      <td>0</td>\n",
       "      <td>1</td>\n",
       "      <td>4.0000</td>\n",
       "      <td>1</td>\n",
       "      <td>acquired</td>\n",
       "    </tr>\n",
       "    <tr>\n",
       "      <th>9</th>\n",
       "      <td>846</td>\n",
       "      <td>CA</td>\n",
       "      <td>37.427235</td>\n",
       "      <td>-122.145783</td>\n",
       "      <td>94306</td>\n",
       "      <td>c:498</td>\n",
       "      <td>Palo Alto</td>\n",
       "      <td>NaN</td>\n",
       "      <td>Doostang</td>\n",
       "      <td>1</td>\n",
       "      <td>...</td>\n",
       "      <td>c:498</td>\n",
       "      <td>1</td>\n",
       "      <td>1</td>\n",
       "      <td>1</td>\n",
       "      <td>0</td>\n",
       "      <td>0</td>\n",
       "      <td>0</td>\n",
       "      <td>1.0000</td>\n",
       "      <td>1</td>\n",
       "      <td>acquired</td>\n",
       "    </tr>\n",
       "  </tbody>\n",
       "</table>\n",
       "<p>10 rows × 49 columns</p>\n",
       "</div>"
      ],
      "text/plain": [
       "   Unnamed: 0 state_code   latitude   longitude zip_code       id  \\\n",
       "0        1005         CA  42.358880  -71.056820    92101   c:6669   \n",
       "1         204         CA  37.238916 -121.973718    95032  c:16283   \n",
       "2        1001         CA  32.901049 -117.192656    92121  c:65620   \n",
       "3         738         CA  37.320309 -122.050040    95014  c:42668   \n",
       "4        1002         CA  37.779281 -122.419236    94105  c:65806   \n",
       "5         379         CA  37.406914 -122.090370    94043  c:22898   \n",
       "6         195         CA  37.391559 -122.070264    94041  c:16191   \n",
       "7         875         CA  38.057107 -122.513742    94901   c:5192   \n",
       "8          16         MA  42.712207  -73.203599     1267   c:1043   \n",
       "9         846         CA  37.427235 -122.145783    94306    c:498   \n",
       "\n",
       "            city              Unnamed: 6                   name  labels  ...  \\\n",
       "0      San Diego                     NaN            Bandsintown       1  ...   \n",
       "1      Los Gatos                     NaN              TriCipher       1  ...   \n",
       "2      San Diego      San Diego CA 92121                  Plixi       1  ...   \n",
       "3      Cupertino      Cupertino CA 95014      Solidcore Systems       1  ...   \n",
       "4  San Francisco  San Francisco CA 94105         Inhale Digital       0  ...   \n",
       "5  Mountain View  Mountain View CA 94043       Matisse Networks       0  ...   \n",
       "6  Mountain View                     NaN  RingCube Technologies       1  ...   \n",
       "7     San Rafael                     NaN              ClairMail       1  ...   \n",
       "8   Williamstown    Williamstown MA 1267              VoodooVox       1  ...   \n",
       "9      Palo Alto                     NaN               Doostang       1  ...   \n",
       "\n",
       "  object_id has_VC has_angel has_roundA  has_roundB  has_roundC  has_roundD  \\\n",
       "0    c:6669      0         1          0           0           0           0   \n",
       "1   c:16283      1         0          0           1           1           1   \n",
       "2   c:65620      0         0          1           0           0           0   \n",
       "3   c:42668      0         0          0           1           1           1   \n",
       "4   c:65806      1         1          0           0           0           0   \n",
       "5   c:22898      0         0          0           1           0           0   \n",
       "6   c:16191      1         0          1           1           0           0   \n",
       "7    c:5192      0         0          1           1           0           1   \n",
       "8    c:1043      1         0          1           0           0           1   \n",
       "9     c:498      1         1          1           0           0           0   \n",
       "\n",
       "   avg_participants  is_top500    status  \n",
       "0            1.0000          0  acquired  \n",
       "1            4.7500          1  acquired  \n",
       "2            4.0000          1  acquired  \n",
       "3            3.3333          1  acquired  \n",
       "4            1.0000          1    closed  \n",
       "5            3.0000          1    closed  \n",
       "6            1.6667          1  acquired  \n",
       "7            3.5000          1  acquired  \n",
       "8            4.0000          1  acquired  \n",
       "9            1.0000          1  acquired  \n",
       "\n",
       "[10 rows x 49 columns]"
      ]
     },
     "execution_count": 3,
     "metadata": {},
     "output_type": "execute_result"
    }
   ],
   "source": [
    "data.head(10)"
   ]
  },
  {
   "cell_type": "code",
   "execution_count": 4,
   "metadata": {},
   "outputs": [
    {
     "data": {
      "text/html": [
       "<div>\n",
       "<style scoped>\n",
       "    .dataframe tbody tr th:only-of-type {\n",
       "        vertical-align: middle;\n",
       "    }\n",
       "\n",
       "    .dataframe tbody tr th {\n",
       "        vertical-align: top;\n",
       "    }\n",
       "\n",
       "    .dataframe thead th {\n",
       "        text-align: right;\n",
       "    }\n",
       "</style>\n",
       "<table border=\"1\" class=\"dataframe\">\n",
       "  <thead>\n",
       "    <tr style=\"text-align: right;\">\n",
       "      <th></th>\n",
       "      <th>Unnamed: 0</th>\n",
       "      <th>state_code</th>\n",
       "      <th>latitude</th>\n",
       "      <th>longitude</th>\n",
       "      <th>zip_code</th>\n",
       "      <th>id</th>\n",
       "      <th>city</th>\n",
       "      <th>Unnamed: 6</th>\n",
       "      <th>name</th>\n",
       "      <th>labels</th>\n",
       "      <th>...</th>\n",
       "      <th>object_id</th>\n",
       "      <th>has_VC</th>\n",
       "      <th>has_angel</th>\n",
       "      <th>has_roundA</th>\n",
       "      <th>has_roundB</th>\n",
       "      <th>has_roundC</th>\n",
       "      <th>has_roundD</th>\n",
       "      <th>avg_participants</th>\n",
       "      <th>is_top500</th>\n",
       "      <th>status</th>\n",
       "    </tr>\n",
       "  </thead>\n",
       "  <tbody>\n",
       "    <tr>\n",
       "      <th>918</th>\n",
       "      <td>352</td>\n",
       "      <td>CA</td>\n",
       "      <td>37.740594</td>\n",
       "      <td>-122.376471</td>\n",
       "      <td>94107</td>\n",
       "      <td>c:21343</td>\n",
       "      <td>San Francisco</td>\n",
       "      <td>NaN</td>\n",
       "      <td>CoTweet</td>\n",
       "      <td>1</td>\n",
       "      <td>...</td>\n",
       "      <td>c:21343</td>\n",
       "      <td>0</td>\n",
       "      <td>0</td>\n",
       "      <td>1</td>\n",
       "      <td>0</td>\n",
       "      <td>0</td>\n",
       "      <td>0</td>\n",
       "      <td>6.0000</td>\n",
       "      <td>1</td>\n",
       "      <td>acquired</td>\n",
       "    </tr>\n",
       "    <tr>\n",
       "      <th>919</th>\n",
       "      <td>721</td>\n",
       "      <td>MA</td>\n",
       "      <td>42.504817</td>\n",
       "      <td>-71.195611</td>\n",
       "      <td>1803</td>\n",
       "      <td>c:41747</td>\n",
       "      <td>Burlington</td>\n",
       "      <td>Burlington MA 1803</td>\n",
       "      <td>Reef Point Systems</td>\n",
       "      <td>0</td>\n",
       "      <td>...</td>\n",
       "      <td>c:41747</td>\n",
       "      <td>1</td>\n",
       "      <td>0</td>\n",
       "      <td>0</td>\n",
       "      <td>1</td>\n",
       "      <td>0</td>\n",
       "      <td>0</td>\n",
       "      <td>2.6667</td>\n",
       "      <td>1</td>\n",
       "      <td>closed</td>\n",
       "    </tr>\n",
       "    <tr>\n",
       "      <th>920</th>\n",
       "      <td>557</td>\n",
       "      <td>CA</td>\n",
       "      <td>37.408261</td>\n",
       "      <td>-122.015920</td>\n",
       "      <td>94089</td>\n",
       "      <td>c:31549</td>\n",
       "      <td>Sunnyvale</td>\n",
       "      <td>NaN</td>\n",
       "      <td>Paracor Medical</td>\n",
       "      <td>0</td>\n",
       "      <td>...</td>\n",
       "      <td>c:31549</td>\n",
       "      <td>0</td>\n",
       "      <td>0</td>\n",
       "      <td>0</td>\n",
       "      <td>0</td>\n",
       "      <td>0</td>\n",
       "      <td>1</td>\n",
       "      <td>8.0000</td>\n",
       "      <td>1</td>\n",
       "      <td>closed</td>\n",
       "    </tr>\n",
       "    <tr>\n",
       "      <th>921</th>\n",
       "      <td>589</td>\n",
       "      <td>CA</td>\n",
       "      <td>37.556732</td>\n",
       "      <td>-122.288378</td>\n",
       "      <td>94404</td>\n",
       "      <td>c:33198</td>\n",
       "      <td>San Francisco</td>\n",
       "      <td>NaN</td>\n",
       "      <td>Causata</td>\n",
       "      <td>1</td>\n",
       "      <td>...</td>\n",
       "      <td>c:33198</td>\n",
       "      <td>0</td>\n",
       "      <td>0</td>\n",
       "      <td>1</td>\n",
       "      <td>1</td>\n",
       "      <td>0</td>\n",
       "      <td>0</td>\n",
       "      <td>1.0000</td>\n",
       "      <td>1</td>\n",
       "      <td>acquired</td>\n",
       "    </tr>\n",
       "    <tr>\n",
       "      <th>922</th>\n",
       "      <td>462</td>\n",
       "      <td>CA</td>\n",
       "      <td>37.386778</td>\n",
       "      <td>-121.966277</td>\n",
       "      <td>95054</td>\n",
       "      <td>c:26702</td>\n",
       "      <td>Santa Clara</td>\n",
       "      <td>Santa Clara CA 95054</td>\n",
       "      <td>Asempra Technologies</td>\n",
       "      <td>1</td>\n",
       "      <td>...</td>\n",
       "      <td>c:26702</td>\n",
       "      <td>0</td>\n",
       "      <td>0</td>\n",
       "      <td>0</td>\n",
       "      <td>1</td>\n",
       "      <td>0</td>\n",
       "      <td>0</td>\n",
       "      <td>3.0000</td>\n",
       "      <td>1</td>\n",
       "      <td>acquired</td>\n",
       "    </tr>\n",
       "  </tbody>\n",
       "</table>\n",
       "<p>5 rows × 49 columns</p>\n",
       "</div>"
      ],
      "text/plain": [
       "     Unnamed: 0 state_code   latitude   longitude zip_code       id  \\\n",
       "918         352         CA  37.740594 -122.376471    94107  c:21343   \n",
       "919         721         MA  42.504817  -71.195611     1803  c:41747   \n",
       "920         557         CA  37.408261 -122.015920    94089  c:31549   \n",
       "921         589         CA  37.556732 -122.288378    94404  c:33198   \n",
       "922         462         CA  37.386778 -121.966277    95054  c:26702   \n",
       "\n",
       "              city            Unnamed: 6                  name  labels  ...  \\\n",
       "918  San Francisco                   NaN               CoTweet       1  ...   \n",
       "919     Burlington    Burlington MA 1803    Reef Point Systems       0  ...   \n",
       "920      Sunnyvale                   NaN       Paracor Medical       0  ...   \n",
       "921  San Francisco                   NaN               Causata       1  ...   \n",
       "922    Santa Clara  Santa Clara CA 95054  Asempra Technologies       1  ...   \n",
       "\n",
       "    object_id has_VC has_angel has_roundA  has_roundB  has_roundC  has_roundD  \\\n",
       "918   c:21343      0         0          1           0           0           0   \n",
       "919   c:41747      1         0          0           1           0           0   \n",
       "920   c:31549      0         0          0           0           0           1   \n",
       "921   c:33198      0         0          1           1           0           0   \n",
       "922   c:26702      0         0          0           1           0           0   \n",
       "\n",
       "     avg_participants  is_top500    status  \n",
       "918            6.0000          1  acquired  \n",
       "919            2.6667          1    closed  \n",
       "920            8.0000          1    closed  \n",
       "921            1.0000          1  acquired  \n",
       "922            3.0000          1  acquired  \n",
       "\n",
       "[5 rows x 49 columns]"
      ]
     },
     "execution_count": 4,
     "metadata": {},
     "output_type": "execute_result"
    }
   ],
   "source": [
    "data.tail()"
   ]
  },
  {
   "cell_type": "code",
   "execution_count": 5,
   "metadata": {},
   "outputs": [
    {
     "data": {
      "text/plain": [
       "False"
      ]
     },
     "execution_count": 5,
     "metadata": {},
     "output_type": "execute_result"
    }
   ],
   "source": [
    "data.duplicated().any()"
   ]
  },
  {
   "cell_type": "code",
   "execution_count": 6,
   "metadata": {},
   "outputs": [
    {
     "data": {
      "text/plain": [
       "(923, 49)"
      ]
     },
     "execution_count": 6,
     "metadata": {},
     "output_type": "execute_result"
    }
   ],
   "source": [
    "data.shape"
   ]
  },
  {
   "cell_type": "code",
   "execution_count": 7,
   "metadata": {},
   "outputs": [
    {
     "name": "stdout",
     "output_type": "stream",
     "text": [
      "<class 'pandas.core.frame.DataFrame'>\n",
      "RangeIndex: 923 entries, 0 to 922\n",
      "Data columns (total 49 columns):\n",
      " #   Column                    Non-Null Count  Dtype  \n",
      "---  ------                    --------------  -----  \n",
      " 0   Unnamed: 0                923 non-null    int64  \n",
      " 1   state_code                923 non-null    object \n",
      " 2   latitude                  923 non-null    float64\n",
      " 3   longitude                 923 non-null    float64\n",
      " 4   zip_code                  923 non-null    object \n",
      " 5   id                        923 non-null    object \n",
      " 6   city                      923 non-null    object \n",
      " 7   Unnamed: 6                430 non-null    object \n",
      " 8   name                      923 non-null    object \n",
      " 9   labels                    923 non-null    int64  \n",
      " 10  founded_at                923 non-null    object \n",
      " 11  closed_at                 335 non-null    object \n",
      " 12  first_funding_at          923 non-null    object \n",
      " 13  last_funding_at           923 non-null    object \n",
      " 14  age_first_funding_year    923 non-null    float64\n",
      " 15  age_last_funding_year     923 non-null    float64\n",
      " 16  age_first_milestone_year  771 non-null    float64\n",
      " 17  age_last_milestone_year   771 non-null    float64\n",
      " 18  relationships             923 non-null    int64  \n",
      " 19  funding_rounds            923 non-null    int64  \n",
      " 20  funding_total_usd         923 non-null    int64  \n",
      " 21  milestones                923 non-null    int64  \n",
      " 22  state_code.1              922 non-null    object \n",
      " 23  is_CA                     923 non-null    int64  \n",
      " 24  is_NY                     923 non-null    int64  \n",
      " 25  is_MA                     923 non-null    int64  \n",
      " 26  is_TX                     923 non-null    int64  \n",
      " 27  is_otherstate             923 non-null    int64  \n",
      " 28  category_code             923 non-null    object \n",
      " 29  is_software               923 non-null    int64  \n",
      " 30  is_web                    923 non-null    int64  \n",
      " 31  is_mobile                 923 non-null    int64  \n",
      " 32  is_enterprise             923 non-null    int64  \n",
      " 33  is_advertising            923 non-null    int64  \n",
      " 34  is_gamesvideo             923 non-null    int64  \n",
      " 35  is_ecommerce              923 non-null    int64  \n",
      " 36  is_biotech                923 non-null    int64  \n",
      " 37  is_consulting             923 non-null    int64  \n",
      " 38  is_othercategory          923 non-null    int64  \n",
      " 39  object_id                 923 non-null    object \n",
      " 40  has_VC                    923 non-null    int64  \n",
      " 41  has_angel                 923 non-null    int64  \n",
      " 42  has_roundA                923 non-null    int64  \n",
      " 43  has_roundB                923 non-null    int64  \n",
      " 44  has_roundC                923 non-null    int64  \n",
      " 45  has_roundD                923 non-null    int64  \n",
      " 46  avg_participants          923 non-null    float64\n",
      " 47  is_top500                 923 non-null    int64  \n",
      " 48  status                    923 non-null    object \n",
      "dtypes: float64(7), int64(28), object(14)\n",
      "memory usage: 353.5+ KB\n"
     ]
    }
   ],
   "source": [
    "data.info()"
   ]
  },
  {
   "cell_type": "code",
   "execution_count": 8,
   "metadata": {},
   "outputs": [
    {
     "data": {
      "text/plain": [
       "Unnamed: 0                    0\n",
       "state_code                    0\n",
       "latitude                      0\n",
       "longitude                     0\n",
       "zip_code                      0\n",
       "id                            0\n",
       "city                          0\n",
       "Unnamed: 6                  493\n",
       "name                          0\n",
       "labels                        0\n",
       "founded_at                    0\n",
       "closed_at                   588\n",
       "first_funding_at              0\n",
       "last_funding_at               0\n",
       "age_first_funding_year        0\n",
       "age_last_funding_year         0\n",
       "age_first_milestone_year    152\n",
       "age_last_milestone_year     152\n",
       "relationships                 0\n",
       "funding_rounds                0\n",
       "funding_total_usd             0\n",
       "milestones                    0\n",
       "state_code.1                  1\n",
       "is_CA                         0\n",
       "is_NY                         0\n",
       "is_MA                         0\n",
       "is_TX                         0\n",
       "is_otherstate                 0\n",
       "category_code                 0\n",
       "is_software                   0\n",
       "is_web                        0\n",
       "is_mobile                     0\n",
       "is_enterprise                 0\n",
       "is_advertising                0\n",
       "is_gamesvideo                 0\n",
       "is_ecommerce                  0\n",
       "is_biotech                    0\n",
       "is_consulting                 0\n",
       "is_othercategory              0\n",
       "object_id                     0\n",
       "has_VC                        0\n",
       "has_angel                     0\n",
       "has_roundA                    0\n",
       "has_roundB                    0\n",
       "has_roundC                    0\n",
       "has_roundD                    0\n",
       "avg_participants              0\n",
       "is_top500                     0\n",
       "status                        0\n",
       "dtype: int64"
      ]
     },
     "execution_count": 8,
     "metadata": {},
     "output_type": "execute_result"
    }
   ],
   "source": [
    "data.isna().sum()"
   ]
  },
  {
   "cell_type": "code",
   "execution_count": 9,
   "metadata": {},
   "outputs": [
    {
     "data": {
      "text/html": [
       "<div>\n",
       "<style scoped>\n",
       "    .dataframe tbody tr th:only-of-type {\n",
       "        vertical-align: middle;\n",
       "    }\n",
       "\n",
       "    .dataframe tbody tr th {\n",
       "        vertical-align: top;\n",
       "    }\n",
       "\n",
       "    .dataframe thead th {\n",
       "        text-align: right;\n",
       "    }\n",
       "</style>\n",
       "<table border=\"1\" class=\"dataframe\">\n",
       "  <thead>\n",
       "    <tr style=\"text-align: right;\">\n",
       "      <th></th>\n",
       "      <th>count</th>\n",
       "      <th>mean</th>\n",
       "      <th>std</th>\n",
       "      <th>min</th>\n",
       "      <th>25%</th>\n",
       "      <th>50%</th>\n",
       "      <th>75%</th>\n",
       "      <th>max</th>\n",
       "    </tr>\n",
       "  </thead>\n",
       "  <tbody>\n",
       "    <tr>\n",
       "      <th>Unnamed: 0</th>\n",
       "      <td>923.0</td>\n",
       "      <td>5.722979e+02</td>\n",
       "      <td>3.335854e+02</td>\n",
       "      <td>1.000000</td>\n",
       "      <td>2.835000e+02</td>\n",
       "      <td>5.770000e+02</td>\n",
       "      <td>8.665000e+02</td>\n",
       "      <td>1.153000e+03</td>\n",
       "    </tr>\n",
       "    <tr>\n",
       "      <th>latitude</th>\n",
       "      <td>923.0</td>\n",
       "      <td>3.851744e+01</td>\n",
       "      <td>3.741497e+00</td>\n",
       "      <td>25.752358</td>\n",
       "      <td>3.738887e+01</td>\n",
       "      <td>3.777928e+01</td>\n",
       "      <td>4.073065e+01</td>\n",
       "      <td>5.933523e+01</td>\n",
       "    </tr>\n",
       "    <tr>\n",
       "      <th>longitude</th>\n",
       "      <td>923.0</td>\n",
       "      <td>-1.035392e+02</td>\n",
       "      <td>2.239417e+01</td>\n",
       "      <td>-122.756956</td>\n",
       "      <td>-1.221987e+02</td>\n",
       "      <td>-1.183740e+02</td>\n",
       "      <td>-7.721473e+01</td>\n",
       "      <td>1.805712e+01</td>\n",
       "    </tr>\n",
       "    <tr>\n",
       "      <th>labels</th>\n",
       "      <td>923.0</td>\n",
       "      <td>6.468039e-01</td>\n",
       "      <td>4.782221e-01</td>\n",
       "      <td>0.000000</td>\n",
       "      <td>0.000000e+00</td>\n",
       "      <td>1.000000e+00</td>\n",
       "      <td>1.000000e+00</td>\n",
       "      <td>1.000000e+00</td>\n",
       "    </tr>\n",
       "    <tr>\n",
       "      <th>age_first_funding_year</th>\n",
       "      <td>923.0</td>\n",
       "      <td>2.235630e+00</td>\n",
       "      <td>2.510449e+00</td>\n",
       "      <td>-9.046600</td>\n",
       "      <td>5.767000e-01</td>\n",
       "      <td>1.446600e+00</td>\n",
       "      <td>3.575350e+00</td>\n",
       "      <td>2.189590e+01</td>\n",
       "    </tr>\n",
       "    <tr>\n",
       "      <th>age_last_funding_year</th>\n",
       "      <td>923.0</td>\n",
       "      <td>3.931456e+00</td>\n",
       "      <td>2.967910e+00</td>\n",
       "      <td>-9.046600</td>\n",
       "      <td>1.669850e+00</td>\n",
       "      <td>3.528800e+00</td>\n",
       "      <td>5.560250e+00</td>\n",
       "      <td>2.189590e+01</td>\n",
       "    </tr>\n",
       "    <tr>\n",
       "      <th>age_first_milestone_year</th>\n",
       "      <td>771.0</td>\n",
       "      <td>3.055353e+00</td>\n",
       "      <td>2.977057e+00</td>\n",
       "      <td>-14.169900</td>\n",
       "      <td>1.000000e+00</td>\n",
       "      <td>2.520500e+00</td>\n",
       "      <td>4.686300e+00</td>\n",
       "      <td>2.468490e+01</td>\n",
       "    </tr>\n",
       "    <tr>\n",
       "      <th>age_last_milestone_year</th>\n",
       "      <td>771.0</td>\n",
       "      <td>4.754423e+00</td>\n",
       "      <td>3.212107e+00</td>\n",
       "      <td>-7.005500</td>\n",
       "      <td>2.411000e+00</td>\n",
       "      <td>4.476700e+00</td>\n",
       "      <td>6.753400e+00</td>\n",
       "      <td>2.468490e+01</td>\n",
       "    </tr>\n",
       "    <tr>\n",
       "      <th>relationships</th>\n",
       "      <td>923.0</td>\n",
       "      <td>7.710726e+00</td>\n",
       "      <td>7.265776e+00</td>\n",
       "      <td>0.000000</td>\n",
       "      <td>3.000000e+00</td>\n",
       "      <td>5.000000e+00</td>\n",
       "      <td>1.000000e+01</td>\n",
       "      <td>6.300000e+01</td>\n",
       "    </tr>\n",
       "    <tr>\n",
       "      <th>funding_rounds</th>\n",
       "      <td>923.0</td>\n",
       "      <td>2.310943e+00</td>\n",
       "      <td>1.390922e+00</td>\n",
       "      <td>1.000000</td>\n",
       "      <td>1.000000e+00</td>\n",
       "      <td>2.000000e+00</td>\n",
       "      <td>3.000000e+00</td>\n",
       "      <td>1.000000e+01</td>\n",
       "    </tr>\n",
       "    <tr>\n",
       "      <th>funding_total_usd</th>\n",
       "      <td>923.0</td>\n",
       "      <td>2.541975e+07</td>\n",
       "      <td>1.896344e+08</td>\n",
       "      <td>11000.000000</td>\n",
       "      <td>2.725000e+06</td>\n",
       "      <td>1.000000e+07</td>\n",
       "      <td>2.472500e+07</td>\n",
       "      <td>5.700000e+09</td>\n",
       "    </tr>\n",
       "    <tr>\n",
       "      <th>milestones</th>\n",
       "      <td>923.0</td>\n",
       "      <td>1.841820e+00</td>\n",
       "      <td>1.322632e+00</td>\n",
       "      <td>0.000000</td>\n",
       "      <td>1.000000e+00</td>\n",
       "      <td>2.000000e+00</td>\n",
       "      <td>3.000000e+00</td>\n",
       "      <td>8.000000e+00</td>\n",
       "    </tr>\n",
       "    <tr>\n",
       "      <th>is_CA</th>\n",
       "      <td>923.0</td>\n",
       "      <td>5.276273e-01</td>\n",
       "      <td>4.995068e-01</td>\n",
       "      <td>0.000000</td>\n",
       "      <td>0.000000e+00</td>\n",
       "      <td>1.000000e+00</td>\n",
       "      <td>1.000000e+00</td>\n",
       "      <td>1.000000e+00</td>\n",
       "    </tr>\n",
       "    <tr>\n",
       "      <th>is_NY</th>\n",
       "      <td>923.0</td>\n",
       "      <td>1.148429e-01</td>\n",
       "      <td>3.190051e-01</td>\n",
       "      <td>0.000000</td>\n",
       "      <td>0.000000e+00</td>\n",
       "      <td>0.000000e+00</td>\n",
       "      <td>0.000000e+00</td>\n",
       "      <td>1.000000e+00</td>\n",
       "    </tr>\n",
       "    <tr>\n",
       "      <th>is_MA</th>\n",
       "      <td>923.0</td>\n",
       "      <td>8.992416e-02</td>\n",
       "      <td>2.862282e-01</td>\n",
       "      <td>0.000000</td>\n",
       "      <td>0.000000e+00</td>\n",
       "      <td>0.000000e+00</td>\n",
       "      <td>0.000000e+00</td>\n",
       "      <td>1.000000e+00</td>\n",
       "    </tr>\n",
       "    <tr>\n",
       "      <th>is_TX</th>\n",
       "      <td>923.0</td>\n",
       "      <td>4.550379e-02</td>\n",
       "      <td>2.085193e-01</td>\n",
       "      <td>0.000000</td>\n",
       "      <td>0.000000e+00</td>\n",
       "      <td>0.000000e+00</td>\n",
       "      <td>0.000000e+00</td>\n",
       "      <td>1.000000e+00</td>\n",
       "    </tr>\n",
       "    <tr>\n",
       "      <th>is_otherstate</th>\n",
       "      <td>923.0</td>\n",
       "      <td>2.210184e-01</td>\n",
       "      <td>4.151578e-01</td>\n",
       "      <td>0.000000</td>\n",
       "      <td>0.000000e+00</td>\n",
       "      <td>0.000000e+00</td>\n",
       "      <td>0.000000e+00</td>\n",
       "      <td>1.000000e+00</td>\n",
       "    </tr>\n",
       "    <tr>\n",
       "      <th>is_software</th>\n",
       "      <td>923.0</td>\n",
       "      <td>1.657638e-01</td>\n",
       "      <td>3.720701e-01</td>\n",
       "      <td>0.000000</td>\n",
       "      <td>0.000000e+00</td>\n",
       "      <td>0.000000e+00</td>\n",
       "      <td>0.000000e+00</td>\n",
       "      <td>1.000000e+00</td>\n",
       "    </tr>\n",
       "    <tr>\n",
       "      <th>is_web</th>\n",
       "      <td>923.0</td>\n",
       "      <td>1.560130e-01</td>\n",
       "      <td>3.630644e-01</td>\n",
       "      <td>0.000000</td>\n",
       "      <td>0.000000e+00</td>\n",
       "      <td>0.000000e+00</td>\n",
       "      <td>0.000000e+00</td>\n",
       "      <td>1.000000e+00</td>\n",
       "    </tr>\n",
       "    <tr>\n",
       "      <th>is_mobile</th>\n",
       "      <td>923.0</td>\n",
       "      <td>8.559047e-02</td>\n",
       "      <td>2.799100e-01</td>\n",
       "      <td>0.000000</td>\n",
       "      <td>0.000000e+00</td>\n",
       "      <td>0.000000e+00</td>\n",
       "      <td>0.000000e+00</td>\n",
       "      <td>1.000000e+00</td>\n",
       "    </tr>\n",
       "    <tr>\n",
       "      <th>is_enterprise</th>\n",
       "      <td>923.0</td>\n",
       "      <td>7.908992e-02</td>\n",
       "      <td>2.700254e-01</td>\n",
       "      <td>0.000000</td>\n",
       "      <td>0.000000e+00</td>\n",
       "      <td>0.000000e+00</td>\n",
       "      <td>0.000000e+00</td>\n",
       "      <td>1.000000e+00</td>\n",
       "    </tr>\n",
       "    <tr>\n",
       "      <th>is_advertising</th>\n",
       "      <td>923.0</td>\n",
       "      <td>6.717226e-02</td>\n",
       "      <td>2.504558e-01</td>\n",
       "      <td>0.000000</td>\n",
       "      <td>0.000000e+00</td>\n",
       "      <td>0.000000e+00</td>\n",
       "      <td>0.000000e+00</td>\n",
       "      <td>1.000000e+00</td>\n",
       "    </tr>\n",
       "    <tr>\n",
       "      <th>is_gamesvideo</th>\n",
       "      <td>923.0</td>\n",
       "      <td>5.633803e-02</td>\n",
       "      <td>2.306983e-01</td>\n",
       "      <td>0.000000</td>\n",
       "      <td>0.000000e+00</td>\n",
       "      <td>0.000000e+00</td>\n",
       "      <td>0.000000e+00</td>\n",
       "      <td>1.000000e+00</td>\n",
       "    </tr>\n",
       "    <tr>\n",
       "      <th>is_ecommerce</th>\n",
       "      <td>923.0</td>\n",
       "      <td>2.708559e-02</td>\n",
       "      <td>1.624209e-01</td>\n",
       "      <td>0.000000</td>\n",
       "      <td>0.000000e+00</td>\n",
       "      <td>0.000000e+00</td>\n",
       "      <td>0.000000e+00</td>\n",
       "      <td>1.000000e+00</td>\n",
       "    </tr>\n",
       "    <tr>\n",
       "      <th>is_biotech</th>\n",
       "      <td>923.0</td>\n",
       "      <td>3.683640e-02</td>\n",
       "      <td>1.884621e-01</td>\n",
       "      <td>0.000000</td>\n",
       "      <td>0.000000e+00</td>\n",
       "      <td>0.000000e+00</td>\n",
       "      <td>0.000000e+00</td>\n",
       "      <td>1.000000e+00</td>\n",
       "    </tr>\n",
       "    <tr>\n",
       "      <th>is_consulting</th>\n",
       "      <td>923.0</td>\n",
       "      <td>3.250271e-03</td>\n",
       "      <td>5.694928e-02</td>\n",
       "      <td>0.000000</td>\n",
       "      <td>0.000000e+00</td>\n",
       "      <td>0.000000e+00</td>\n",
       "      <td>0.000000e+00</td>\n",
       "      <td>1.000000e+00</td>\n",
       "    </tr>\n",
       "    <tr>\n",
       "      <th>is_othercategory</th>\n",
       "      <td>923.0</td>\n",
       "      <td>3.228602e-01</td>\n",
       "      <td>4.678233e-01</td>\n",
       "      <td>0.000000</td>\n",
       "      <td>0.000000e+00</td>\n",
       "      <td>0.000000e+00</td>\n",
       "      <td>1.000000e+00</td>\n",
       "      <td>1.000000e+00</td>\n",
       "    </tr>\n",
       "    <tr>\n",
       "      <th>has_VC</th>\n",
       "      <td>923.0</td>\n",
       "      <td>3.261105e-01</td>\n",
       "      <td>4.690424e-01</td>\n",
       "      <td>0.000000</td>\n",
       "      <td>0.000000e+00</td>\n",
       "      <td>0.000000e+00</td>\n",
       "      <td>1.000000e+00</td>\n",
       "      <td>1.000000e+00</td>\n",
       "    </tr>\n",
       "    <tr>\n",
       "      <th>has_angel</th>\n",
       "      <td>923.0</td>\n",
       "      <td>2.546046e-01</td>\n",
       "      <td>4.358749e-01</td>\n",
       "      <td>0.000000</td>\n",
       "      <td>0.000000e+00</td>\n",
       "      <td>0.000000e+00</td>\n",
       "      <td>1.000000e+00</td>\n",
       "      <td>1.000000e+00</td>\n",
       "    </tr>\n",
       "    <tr>\n",
       "      <th>has_roundA</th>\n",
       "      <td>923.0</td>\n",
       "      <td>5.081257e-01</td>\n",
       "      <td>5.002050e-01</td>\n",
       "      <td>0.000000</td>\n",
       "      <td>0.000000e+00</td>\n",
       "      <td>1.000000e+00</td>\n",
       "      <td>1.000000e+00</td>\n",
       "      <td>1.000000e+00</td>\n",
       "    </tr>\n",
       "    <tr>\n",
       "      <th>has_roundB</th>\n",
       "      <td>923.0</td>\n",
       "      <td>3.921993e-01</td>\n",
       "      <td>4.885054e-01</td>\n",
       "      <td>0.000000</td>\n",
       "      <td>0.000000e+00</td>\n",
       "      <td>0.000000e+00</td>\n",
       "      <td>1.000000e+00</td>\n",
       "      <td>1.000000e+00</td>\n",
       "    </tr>\n",
       "    <tr>\n",
       "      <th>has_roundC</th>\n",
       "      <td>923.0</td>\n",
       "      <td>2.329361e-01</td>\n",
       "      <td>4.229310e-01</td>\n",
       "      <td>0.000000</td>\n",
       "      <td>0.000000e+00</td>\n",
       "      <td>0.000000e+00</td>\n",
       "      <td>0.000000e+00</td>\n",
       "      <td>1.000000e+00</td>\n",
       "    </tr>\n",
       "    <tr>\n",
       "      <th>has_roundD</th>\n",
       "      <td>923.0</td>\n",
       "      <td>9.967497e-02</td>\n",
       "      <td>2.997286e-01</td>\n",
       "      <td>0.000000</td>\n",
       "      <td>0.000000e+00</td>\n",
       "      <td>0.000000e+00</td>\n",
       "      <td>0.000000e+00</td>\n",
       "      <td>1.000000e+00</td>\n",
       "    </tr>\n",
       "    <tr>\n",
       "      <th>avg_participants</th>\n",
       "      <td>923.0</td>\n",
       "      <td>2.838586e+00</td>\n",
       "      <td>1.874601e+00</td>\n",
       "      <td>1.000000</td>\n",
       "      <td>1.500000e+00</td>\n",
       "      <td>2.500000e+00</td>\n",
       "      <td>3.800000e+00</td>\n",
       "      <td>1.600000e+01</td>\n",
       "    </tr>\n",
       "    <tr>\n",
       "      <th>is_top500</th>\n",
       "      <td>923.0</td>\n",
       "      <td>8.093174e-01</td>\n",
       "      <td>3.930523e-01</td>\n",
       "      <td>0.000000</td>\n",
       "      <td>1.000000e+00</td>\n",
       "      <td>1.000000e+00</td>\n",
       "      <td>1.000000e+00</td>\n",
       "      <td>1.000000e+00</td>\n",
       "    </tr>\n",
       "  </tbody>\n",
       "</table>\n",
       "</div>"
      ],
      "text/plain": [
       "                          count          mean           std           min  \\\n",
       "Unnamed: 0                923.0  5.722979e+02  3.335854e+02      1.000000   \n",
       "latitude                  923.0  3.851744e+01  3.741497e+00     25.752358   \n",
       "longitude                 923.0 -1.035392e+02  2.239417e+01   -122.756956   \n",
       "labels                    923.0  6.468039e-01  4.782221e-01      0.000000   \n",
       "age_first_funding_year    923.0  2.235630e+00  2.510449e+00     -9.046600   \n",
       "age_last_funding_year     923.0  3.931456e+00  2.967910e+00     -9.046600   \n",
       "age_first_milestone_year  771.0  3.055353e+00  2.977057e+00    -14.169900   \n",
       "age_last_milestone_year   771.0  4.754423e+00  3.212107e+00     -7.005500   \n",
       "relationships             923.0  7.710726e+00  7.265776e+00      0.000000   \n",
       "funding_rounds            923.0  2.310943e+00  1.390922e+00      1.000000   \n",
       "funding_total_usd         923.0  2.541975e+07  1.896344e+08  11000.000000   \n",
       "milestones                923.0  1.841820e+00  1.322632e+00      0.000000   \n",
       "is_CA                     923.0  5.276273e-01  4.995068e-01      0.000000   \n",
       "is_NY                     923.0  1.148429e-01  3.190051e-01      0.000000   \n",
       "is_MA                     923.0  8.992416e-02  2.862282e-01      0.000000   \n",
       "is_TX                     923.0  4.550379e-02  2.085193e-01      0.000000   \n",
       "is_otherstate             923.0  2.210184e-01  4.151578e-01      0.000000   \n",
       "is_software               923.0  1.657638e-01  3.720701e-01      0.000000   \n",
       "is_web                    923.0  1.560130e-01  3.630644e-01      0.000000   \n",
       "is_mobile                 923.0  8.559047e-02  2.799100e-01      0.000000   \n",
       "is_enterprise             923.0  7.908992e-02  2.700254e-01      0.000000   \n",
       "is_advertising            923.0  6.717226e-02  2.504558e-01      0.000000   \n",
       "is_gamesvideo             923.0  5.633803e-02  2.306983e-01      0.000000   \n",
       "is_ecommerce              923.0  2.708559e-02  1.624209e-01      0.000000   \n",
       "is_biotech                923.0  3.683640e-02  1.884621e-01      0.000000   \n",
       "is_consulting             923.0  3.250271e-03  5.694928e-02      0.000000   \n",
       "is_othercategory          923.0  3.228602e-01  4.678233e-01      0.000000   \n",
       "has_VC                    923.0  3.261105e-01  4.690424e-01      0.000000   \n",
       "has_angel                 923.0  2.546046e-01  4.358749e-01      0.000000   \n",
       "has_roundA                923.0  5.081257e-01  5.002050e-01      0.000000   \n",
       "has_roundB                923.0  3.921993e-01  4.885054e-01      0.000000   \n",
       "has_roundC                923.0  2.329361e-01  4.229310e-01      0.000000   \n",
       "has_roundD                923.0  9.967497e-02  2.997286e-01      0.000000   \n",
       "avg_participants          923.0  2.838586e+00  1.874601e+00      1.000000   \n",
       "is_top500                 923.0  8.093174e-01  3.930523e-01      0.000000   \n",
       "\n",
       "                                   25%           50%           75%  \\\n",
       "Unnamed: 0                2.835000e+02  5.770000e+02  8.665000e+02   \n",
       "latitude                  3.738887e+01  3.777928e+01  4.073065e+01   \n",
       "longitude                -1.221987e+02 -1.183740e+02 -7.721473e+01   \n",
       "labels                    0.000000e+00  1.000000e+00  1.000000e+00   \n",
       "age_first_funding_year    5.767000e-01  1.446600e+00  3.575350e+00   \n",
       "age_last_funding_year     1.669850e+00  3.528800e+00  5.560250e+00   \n",
       "age_first_milestone_year  1.000000e+00  2.520500e+00  4.686300e+00   \n",
       "age_last_milestone_year   2.411000e+00  4.476700e+00  6.753400e+00   \n",
       "relationships             3.000000e+00  5.000000e+00  1.000000e+01   \n",
       "funding_rounds            1.000000e+00  2.000000e+00  3.000000e+00   \n",
       "funding_total_usd         2.725000e+06  1.000000e+07  2.472500e+07   \n",
       "milestones                1.000000e+00  2.000000e+00  3.000000e+00   \n",
       "is_CA                     0.000000e+00  1.000000e+00  1.000000e+00   \n",
       "is_NY                     0.000000e+00  0.000000e+00  0.000000e+00   \n",
       "is_MA                     0.000000e+00  0.000000e+00  0.000000e+00   \n",
       "is_TX                     0.000000e+00  0.000000e+00  0.000000e+00   \n",
       "is_otherstate             0.000000e+00  0.000000e+00  0.000000e+00   \n",
       "is_software               0.000000e+00  0.000000e+00  0.000000e+00   \n",
       "is_web                    0.000000e+00  0.000000e+00  0.000000e+00   \n",
       "is_mobile                 0.000000e+00  0.000000e+00  0.000000e+00   \n",
       "is_enterprise             0.000000e+00  0.000000e+00  0.000000e+00   \n",
       "is_advertising            0.000000e+00  0.000000e+00  0.000000e+00   \n",
       "is_gamesvideo             0.000000e+00  0.000000e+00  0.000000e+00   \n",
       "is_ecommerce              0.000000e+00  0.000000e+00  0.000000e+00   \n",
       "is_biotech                0.000000e+00  0.000000e+00  0.000000e+00   \n",
       "is_consulting             0.000000e+00  0.000000e+00  0.000000e+00   \n",
       "is_othercategory          0.000000e+00  0.000000e+00  1.000000e+00   \n",
       "has_VC                    0.000000e+00  0.000000e+00  1.000000e+00   \n",
       "has_angel                 0.000000e+00  0.000000e+00  1.000000e+00   \n",
       "has_roundA                0.000000e+00  1.000000e+00  1.000000e+00   \n",
       "has_roundB                0.000000e+00  0.000000e+00  1.000000e+00   \n",
       "has_roundC                0.000000e+00  0.000000e+00  0.000000e+00   \n",
       "has_roundD                0.000000e+00  0.000000e+00  0.000000e+00   \n",
       "avg_participants          1.500000e+00  2.500000e+00  3.800000e+00   \n",
       "is_top500                 1.000000e+00  1.000000e+00  1.000000e+00   \n",
       "\n",
       "                                   max  \n",
       "Unnamed: 0                1.153000e+03  \n",
       "latitude                  5.933523e+01  \n",
       "longitude                 1.805712e+01  \n",
       "labels                    1.000000e+00  \n",
       "age_first_funding_year    2.189590e+01  \n",
       "age_last_funding_year     2.189590e+01  \n",
       "age_first_milestone_year  2.468490e+01  \n",
       "age_last_milestone_year   2.468490e+01  \n",
       "relationships             6.300000e+01  \n",
       "funding_rounds            1.000000e+01  \n",
       "funding_total_usd         5.700000e+09  \n",
       "milestones                8.000000e+00  \n",
       "is_CA                     1.000000e+00  \n",
       "is_NY                     1.000000e+00  \n",
       "is_MA                     1.000000e+00  \n",
       "is_TX                     1.000000e+00  \n",
       "is_otherstate             1.000000e+00  \n",
       "is_software               1.000000e+00  \n",
       "is_web                    1.000000e+00  \n",
       "is_mobile                 1.000000e+00  \n",
       "is_enterprise             1.000000e+00  \n",
       "is_advertising            1.000000e+00  \n",
       "is_gamesvideo             1.000000e+00  \n",
       "is_ecommerce              1.000000e+00  \n",
       "is_biotech                1.000000e+00  \n",
       "is_consulting             1.000000e+00  \n",
       "is_othercategory          1.000000e+00  \n",
       "has_VC                    1.000000e+00  \n",
       "has_angel                 1.000000e+00  \n",
       "has_roundA                1.000000e+00  \n",
       "has_roundB                1.000000e+00  \n",
       "has_roundC                1.000000e+00  \n",
       "has_roundD                1.000000e+00  \n",
       "avg_participants          1.600000e+01  \n",
       "is_top500                 1.000000e+00  "
      ]
     },
     "execution_count": 9,
     "metadata": {},
     "output_type": "execute_result"
    }
   ],
   "source": [
    "data.describe().T"
   ]
  },
  {
   "cell_type": "code",
   "execution_count": 10,
   "metadata": {},
   "outputs": [
    {
     "data": {
      "text/html": [
       "<div>\n",
       "<style scoped>\n",
       "    .dataframe tbody tr th:only-of-type {\n",
       "        vertical-align: middle;\n",
       "    }\n",
       "\n",
       "    .dataframe tbody tr th {\n",
       "        vertical-align: top;\n",
       "    }\n",
       "\n",
       "    .dataframe thead th {\n",
       "        text-align: right;\n",
       "    }\n",
       "</style>\n",
       "<table border=\"1\" class=\"dataframe\">\n",
       "  <thead>\n",
       "    <tr style=\"text-align: right;\">\n",
       "      <th></th>\n",
       "      <th>count</th>\n",
       "      <th>unique</th>\n",
       "      <th>top</th>\n",
       "      <th>freq</th>\n",
       "    </tr>\n",
       "  </thead>\n",
       "  <tbody>\n",
       "    <tr>\n",
       "      <th>state_code</th>\n",
       "      <td>923</td>\n",
       "      <td>35</td>\n",
       "      <td>CA</td>\n",
       "      <td>488</td>\n",
       "    </tr>\n",
       "    <tr>\n",
       "      <th>zip_code</th>\n",
       "      <td>923</td>\n",
       "      <td>382</td>\n",
       "      <td>94107</td>\n",
       "      <td>30</td>\n",
       "    </tr>\n",
       "    <tr>\n",
       "      <th>id</th>\n",
       "      <td>923</td>\n",
       "      <td>922</td>\n",
       "      <td>c:28482</td>\n",
       "      <td>2</td>\n",
       "    </tr>\n",
       "    <tr>\n",
       "      <th>city</th>\n",
       "      <td>923</td>\n",
       "      <td>221</td>\n",
       "      <td>San Francisco</td>\n",
       "      <td>128</td>\n",
       "    </tr>\n",
       "    <tr>\n",
       "      <th>Unnamed: 6</th>\n",
       "      <td>430</td>\n",
       "      <td>252</td>\n",
       "      <td>San Francisco CA 94105</td>\n",
       "      <td>12</td>\n",
       "    </tr>\n",
       "    <tr>\n",
       "      <th>name</th>\n",
       "      <td>923</td>\n",
       "      <td>922</td>\n",
       "      <td>Redwood Systems</td>\n",
       "      <td>2</td>\n",
       "    </tr>\n",
       "    <tr>\n",
       "      <th>founded_at</th>\n",
       "      <td>923</td>\n",
       "      <td>217</td>\n",
       "      <td>1/1/2003</td>\n",
       "      <td>55</td>\n",
       "    </tr>\n",
       "    <tr>\n",
       "      <th>closed_at</th>\n",
       "      <td>335</td>\n",
       "      <td>202</td>\n",
       "      <td>6/1/2013</td>\n",
       "      <td>25</td>\n",
       "    </tr>\n",
       "    <tr>\n",
       "      <th>first_funding_at</th>\n",
       "      <td>923</td>\n",
       "      <td>585</td>\n",
       "      <td>1/1/2008</td>\n",
       "      <td>18</td>\n",
       "    </tr>\n",
       "    <tr>\n",
       "      <th>last_funding_at</th>\n",
       "      <td>923</td>\n",
       "      <td>680</td>\n",
       "      <td>1/1/2008</td>\n",
       "      <td>11</td>\n",
       "    </tr>\n",
       "    <tr>\n",
       "      <th>state_code.1</th>\n",
       "      <td>922</td>\n",
       "      <td>35</td>\n",
       "      <td>CA</td>\n",
       "      <td>487</td>\n",
       "    </tr>\n",
       "    <tr>\n",
       "      <th>category_code</th>\n",
       "      <td>923</td>\n",
       "      <td>35</td>\n",
       "      <td>software</td>\n",
       "      <td>153</td>\n",
       "    </tr>\n",
       "    <tr>\n",
       "      <th>object_id</th>\n",
       "      <td>923</td>\n",
       "      <td>922</td>\n",
       "      <td>c:28482</td>\n",
       "      <td>2</td>\n",
       "    </tr>\n",
       "    <tr>\n",
       "      <th>status</th>\n",
       "      <td>923</td>\n",
       "      <td>2</td>\n",
       "      <td>acquired</td>\n",
       "      <td>597</td>\n",
       "    </tr>\n",
       "  </tbody>\n",
       "</table>\n",
       "</div>"
      ],
      "text/plain": [
       "                 count unique                     top freq\n",
       "state_code         923     35                      CA  488\n",
       "zip_code           923    382                   94107   30\n",
       "id                 923    922                 c:28482    2\n",
       "city               923    221           San Francisco  128\n",
       "Unnamed: 6         430    252  San Francisco CA 94105   12\n",
       "name               923    922         Redwood Systems    2\n",
       "founded_at         923    217                1/1/2003   55\n",
       "closed_at          335    202                6/1/2013   25\n",
       "first_funding_at   923    585                1/1/2008   18\n",
       "last_funding_at    923    680                1/1/2008   11\n",
       "state_code.1       922     35                      CA  487\n",
       "category_code      923     35                software  153\n",
       "object_id          923    922                 c:28482    2\n",
       "status             923      2                acquired  597"
      ]
     },
     "execution_count": 10,
     "metadata": {},
     "output_type": "execute_result"
    }
   ],
   "source": [
    "data.describe(include=[np.object]).T"
   ]
  },
  {
   "cell_type": "code",
   "execution_count": 11,
   "metadata": {},
   "outputs": [],
   "source": [
    "startup = data.drop([\"Unnamed: 0\", \"Unnamed: 6\"], axis=1)"
   ]
  },
  {
   "cell_type": "code",
   "execution_count": 12,
   "metadata": {},
   "outputs": [
    {
     "data": {
      "text/plain": [
       "(923, 47)"
      ]
     },
     "execution_count": 12,
     "metadata": {},
     "output_type": "execute_result"
    }
   ],
   "source": [
    "startup.shape"
   ]
  },
  {
   "cell_type": "code",
   "execution_count": 13,
   "metadata": {},
   "outputs": [],
   "source": [
    "col_list = startup.columns.to_list()"
   ]
  },
  {
   "cell_type": "code",
   "execution_count": 14,
   "metadata": {},
   "outputs": [
    {
     "name": "stdout",
     "output_type": "stream",
     "text": [
      "state_code: 35\n",
      "relationships: 41\n",
      "funding_rounds: 9\n",
      "milestones: 8\n",
      "state_code.1: 36\n",
      "category_code: 35\n",
      "avg_participants: 59\n"
     ]
    }
   ],
   "source": [
    "for column in col_list:\n",
    "    if len(startup[column].unique()) < 60 and len(startup[column].unique()) > 2:\n",
    "        print(f\"{column}:\", len(startup[column].unique()))"
   ]
  },
  {
   "cell_type": "code",
   "execution_count": 15,
   "metadata": {},
   "outputs": [
    {
     "name": "stdout",
     "output_type": "stream",
     "text": [
      "labels: 2\n",
      "is_CA: 2\n",
      "is_NY: 2\n",
      "is_MA: 2\n",
      "is_TX: 2\n",
      "is_otherstate: 2\n",
      "is_software: 2\n",
      "is_web: 2\n",
      "is_mobile: 2\n",
      "is_enterprise: 2\n",
      "is_advertising: 2\n",
      "is_gamesvideo: 2\n",
      "is_ecommerce: 2\n",
      "is_biotech: 2\n",
      "is_consulting: 2\n",
      "is_othercategory: 2\n",
      "has_VC: 2\n",
      "has_angel: 2\n",
      "has_roundA: 2\n",
      "has_roundB: 2\n",
      "has_roundC: 2\n",
      "has_roundD: 2\n",
      "is_top500: 2\n",
      "status: 2\n"
     ]
    }
   ],
   "source": [
    "for column in col_list:\n",
    "    if len(startup[column].unique()) == 2:\n",
    "        print(f\"{column}:\", len(startup[column].unique()))"
   ]
  },
  {
   "cell_type": "markdown",
   "metadata": {},
   "source": [
    "### Cleaning up zip code"
   ]
  },
  {
   "cell_type": "code",
   "execution_count": 16,
   "metadata": {},
   "outputs": [
    {
     "data": {
      "text/plain": [
       "112    95035-6261\n",
       "703          2452\n",
       "551         94025\n",
       "644         94040\n",
       "914         10001\n",
       "312         94107\n",
       "614         94103\n",
       "543         94304\n",
       "188         95128\n",
       "52          78731\n",
       "Name: zip_code, dtype: object"
      ]
     },
     "execution_count": 16,
     "metadata": {},
     "output_type": "execute_result"
    }
   ],
   "source": [
    "startup[\"zip_code\"].sample(10)"
   ]
  },
  {
   "cell_type": "code",
   "execution_count": 17,
   "metadata": {},
   "outputs": [
    {
     "data": {
      "text/plain": [
       "0"
      ]
     },
     "execution_count": 17,
     "metadata": {},
     "output_type": "execute_result"
    }
   ],
   "source": [
    "startup[\"zip_code\"].isna().sum()"
   ]
  },
  {
   "cell_type": "code",
   "execution_count": 18,
   "metadata": {},
   "outputs": [],
   "source": [
    "regex = r\"^(\\d{5})\""
   ]
  },
  {
   "cell_type": "code",
   "execution_count": 19,
   "metadata": {},
   "outputs": [
    {
     "data": {
      "text/plain": [
       "628    10013\n",
       "26     94303\n",
       "425    94404\n",
       "615    95014\n",
       "893    10012\n",
       "795    10014\n",
       "225    98104\n",
       "64     02111\n",
       "513    10010\n",
       "313    94104\n",
       "Name: zip_code, dtype: object"
      ]
     },
     "execution_count": 19,
     "metadata": {},
     "output_type": "execute_result"
    }
   ],
   "source": [
    "extr = startup[\"zip_code\"].str.extract(regex, expand=False)\n",
    "extr.sample(10)"
   ]
  },
  {
   "cell_type": "code",
   "execution_count": 20,
   "metadata": {},
   "outputs": [
    {
     "data": {
      "text/plain": [
       "101"
      ]
     },
     "execution_count": 20,
     "metadata": {},
     "output_type": "execute_result"
    }
   ],
   "source": [
    "extr.isna().sum()"
   ]
  },
  {
   "cell_type": "code",
   "execution_count": 21,
   "metadata": {},
   "outputs": [
    {
     "data": {
      "text/plain": [
       "0"
      ]
     },
     "execution_count": 21,
     "metadata": {},
     "output_type": "execute_result"
    }
   ],
   "source": [
    "common = extr.mode()[0]\n",
    "extr = extr.fillna(common)\n",
    "extr.isna().sum()"
   ]
  },
  {
   "cell_type": "code",
   "execution_count": 22,
   "metadata": {},
   "outputs": [],
   "source": [
    "startup[\"zip_code\"] = extr"
   ]
  },
  {
   "cell_type": "code",
   "execution_count": 24,
   "metadata": {},
   "outputs": [
    {
     "data": {
      "text/plain": [
       "<matplotlib.axes._subplots.AxesSubplot at 0x17a198d1b08>"
      ]
     },
     "execution_count": 24,
     "metadata": {},
     "output_type": "execute_result"
    },
    {
     "data": {
      "image/png": "[encoded data removed]",
      "text/plain": [
       "<Figure size 432x288 with 1 Axes>"
      ]
     },
     "metadata": {
      "needs_background": "light"
     },
     "output_type": "display_data"
    }
   ],
   "source": [
    "sns.scatterplot(\n",
    "    data=startup, \n",
    "    x=\"longitude\", \n",
    "    y=\"latitude\", \n",
    "    size=\"relationships\", \n",
    "    hue=\"status\")"
   ]
  },
  {
   "cell_type": "markdown",
   "metadata": {},
   "source": [
    "## Univariate analysis"
   ]
  },
  {
   "cell_type": "markdown",
   "metadata": {},
   "source": [
    "### Continuous data"
   ]
  },
  {
   "cell_type": "code",
   "execution_count": 25,
   "metadata": {},
   "outputs": [],
   "source": [
    "sns.set(rc={\"figure.figsize\":(15, 8)})"
   ]
  },
  {
   "cell_type": "code",
   "execution_count": 26,
   "metadata": {},
   "outputs": [
    {
     "data": {
      "image/png": "[encoded data removed]",
      "text/plain": [
       "<Figure size 1080x576 with 1 Axes>"
      ]
     },
     "metadata": {},
     "output_type": "display_data"
    }
   ],
   "source": [
    "startup[\"labels\"].plot(kind=\"hist\", bins=25);"
   ]
  },
  {
   "cell_type": "code",
   "execution_count": 27,
   "metadata": {},
   "outputs": [
    {
     "data": {
      "image/png": "[encoded data removed]",
      "text/plain": [
       "<Figure size 1080x576 with 1 Axes>"
      ]
     },
     "metadata": {},
     "output_type": "display_data"
    }
   ],
   "source": [
    "startup[\"age_first_funding_year\"].plot.hist(bins=25);"
   ]
  },
  {
   "cell_type": "code",
   "execution_count": 28,
   "metadata": {},
   "outputs": [
    {
     "data": {
      "image/png": "[encoded data removed]",
      "text/plain": [
       "<Figure size 1080x576 with 1 Axes>"
      ]
     },
     "metadata": {},
     "output_type": "display_data"
    }
   ],
   "source": [
    "startup[\"age_last_funding_year\"].plot.hist(bins=25);"
   ]
  },
  {
   "cell_type": "code",
   "execution_count": 29,
   "metadata": {},
   "outputs": [
    {
     "data": {
      "image/png": "[encoded data removed]",
      "text/plain": [
       "<Figure size 1080x576 with 1 Axes>"
      ]
     },
     "metadata": {},
     "output_type": "display_data"
    }
   ],
   "source": [
    "startup.boxplot(column=[\"age_first_funding_year\", \"age_last_funding_year\"], fontsize=\"large\");"
   ]
  },
  {
   "cell_type": "code",
   "execution_count": 30,
   "metadata": {},
   "outputs": [
    {
     "data": {
      "image/png": "[encoded data removed]",
      "text/plain": [
       "<Figure size 1080x576 with 1 Axes>"
      ]
     },
     "metadata": {},
     "output_type": "display_data"
    }
   ],
   "source": [
    "startup.age_first_milestone_year.plot.hist(bins=25);"
   ]
  },
  {
   "cell_type": "code",
   "execution_count": 31,
   "metadata": {},
   "outputs": [
    {
     "data": {
      "image/png": "[encoded data removed]",
      "text/plain": [
       "<Figure size 1080x576 with 1 Axes>"
      ]
     },
     "metadata": {},
     "output_type": "display_data"
    }
   ],
   "source": [
    "startup.age_last_milestone_year.plot.hist(bins=25);"
   ]
  },
  {
   "cell_type": "code",
   "execution_count": 32,
   "metadata": {},
   "outputs": [
    {
     "data": {
      "image/png": "[encoded data removed]",
      "text/plain": [
       "<Figure size 1080x576 with 1 Axes>"
      ]
     },
     "metadata": {},
     "output_type": "display_data"
    }
   ],
   "source": [
    "startup.boxplot(column=[\"age_first_milestone_year\", \"age_last_milestone_year\"], fontsize=\"large\");"
   ]
  },
  {
   "cell_type": "code",
   "execution_count": 33,
   "metadata": {},
   "outputs": [
    {
     "data": {
      "image/png": "[encoded data removed]",
      "text/plain": [
       "<Figure size 1080x576 with 1 Axes>"
      ]
     },
     "metadata": {},
     "output_type": "display_data"
    }
   ],
   "source": [
    "startup.funding_rounds.plot.hist(bins=25,);"
   ]
  },
  {
   "cell_type": "code",
   "execution_count": 34,
   "metadata": {},
   "outputs": [
    {
     "data": {
      "image/png": "[encoded data removed]",
      "text/plain": [
       "<Figure size 1080x576 with 1 Axes>"
      ]
     },
     "metadata": {},
     "output_type": "display_data"
    }
   ],
   "source": [
    "startup.boxplot(column=\"funding_rounds\", fontsize=\"large\");"
   ]
  },
  {
   "cell_type": "code",
   "execution_count": 35,
   "metadata": {},
   "outputs": [
    {
     "data": {
      "image/png": "[encoded data removed]",
      "text/plain": [
       "<Figure size 1080x576 with 1 Axes>"
      ]
     },
     "metadata": {},
     "output_type": "display_data"
    }
   ],
   "source": [
    "np.log(startup.funding_total_usd).plot.hist(bins=25);"
   ]
  },
  {
   "cell_type": "code",
   "execution_count": 36,
   "metadata": {},
   "outputs": [
    {
     "data": {
      "image/png": "[encoded data removed]",
      "text/plain": [
       "<Figure size 1080x576 with 1 Axes>"
      ]
     },
     "metadata": {},
     "output_type": "display_data"
    }
   ],
   "source": [
    "startup.boxplot(column=\"funding_total_usd\", fontsize=\"large\");"
   ]
  },
  {
   "cell_type": "code",
   "execution_count": 37,
   "metadata": {},
   "outputs": [
    {
     "data": {
      "image/png": "[encoded data removed]",
      "text/plain": [
       "<Figure size 1080x576 with 1 Axes>"
      ]
     },
     "metadata": {},
     "output_type": "display_data"
    }
   ],
   "source": [
    "startup.relationships.plot.hist(bins=25);"
   ]
  },
  {
   "cell_type": "markdown",
   "metadata": {},
   "source": [
    "### Categorical data"
   ]
  },
  {
   "cell_type": "code",
   "execution_count": 38,
   "metadata": {},
   "outputs": [
    {
     "data": {
      "text/plain": [
       "922"
      ]
     },
     "execution_count": 38,
     "metadata": {},
     "output_type": "execute_result"
    }
   ],
   "source": [
    "(startup[\"state_code\"] == startup[\"state_code.1\"]).sum()"
   ]
  },
  {
   "cell_type": "code",
   "execution_count": 39,
   "metadata": {},
   "outputs": [
    {
     "data": {
      "text/plain": [
       "1"
      ]
     },
     "execution_count": 39,
     "metadata": {},
     "output_type": "execute_result"
    }
   ],
   "source": [
    "startup[\"state_code.1\"].isna().sum()"
   ]
  },
  {
   "cell_type": "code",
   "execution_count": 40,
   "metadata": {},
   "outputs": [
    {
     "data": {
      "text/plain": [
       "46"
      ]
     },
     "execution_count": 40,
     "metadata": {},
     "output_type": "execute_result"
    }
   ],
   "source": [
    "startup.drop(\"state_code.1\", inplace=True, axis=1)\n",
    "len(startup.columns)"
   ]
  },
  {
   "cell_type": "code",
   "execution_count": 41,
   "metadata": {},
   "outputs": [
    {
     "data": {
      "text/plain": [
       "<matplotlib.axes._subplots.AxesSubplot at 0x17a1c8929c8>"
      ]
     },
     "execution_count": 41,
     "metadata": {},
     "output_type": "execute_result"
    },
    {
     "data": {
      "image/png": "[encoded data removed]",
      "text/plain": [
       "<Figure size 1080x576 with 1 Axes>"
      ]
     },
     "metadata": {},
     "output_type": "display_data"
    }
   ],
   "source": [
    "sns.countplot(x=\"state_code\", data=startup)"
   ]
  },
  {
   "cell_type": "code",
   "execution_count": 42,
   "metadata": {},
   "outputs": [
    {
     "data": {
      "image/png": "[encoded data removed]",
      "text/plain": [
       "<Figure size 1080x576 with 1 Axes>"
      ]
     },
     "metadata": {},
     "output_type": "display_data"
    }
   ],
   "source": [
    "sns.countplot(data=startup, x=\"category_code\")\n",
    "\n",
    "plt.xlabel(xlabel=\"category\", fontsize=20)\n",
    "plt.ylabel(ylabel=\"frequency\", fontsize=20)\n",
    "plt.tick_params(labelsize=15, labelrotation=90)"
   ]
  },
  {
   "cell_type": "code",
   "execution_count": null,
   "metadata": {},
   "outputs": [],
   "source": []
  }
 ],
 "metadata": {
  "kernelspec": {
   "display_name": "Python 3",
   "language": "python",
   "name": "python3"
  },
  "language_info": {
   "codemirror_mode": {
    "name": "ipython",
    "version": 3
   },
   "file_extension": ".py",
   "mimetype": "text/x-python",
   "name": "python",
   "nbconvert_exporter": "python",
   "pygments_lexer": "ipython3",
   "version": "3.7.6"
  }
 },
 "nbformat": 4,
 "nbformat_minor": 4
}
